{
 "cells": [
  {
   "cell_type": "code",
   "execution_count": 1,
   "metadata": {},
   "outputs": [],
   "source": [
    "import os\n",
    "import sys\n",
    "sys.path.append(os.path.abspath('..')) # add parent path to working directory"
   ]
  },
  {
   "cell_type": "code",
   "execution_count": 2,
   "metadata": {},
   "outputs": [
    {
     "data": {
      "text/plain": [
       "<module 'scripts.fraud_detection' from 'c:\\\\ML and DS Files\\\\Kifiya AI\\\\Kaim-week-8-9\\\\scripts\\\\fraud_detection.py'>"
      ]
     },
     "execution_count": 2,
     "metadata": {},
     "output_type": "execute_result"
    }
   ],
   "source": [
    "\n",
    "from importlib import reload\n",
    "from scripts import data_load_clean_transform, fraud_detection_preprocessor, fraud_detection\n",
    "reload(data_load_clean_transform) # reload the script to avoid kernel restart\n",
    "reload(fraud_detection_preprocessor)\n",
    "reload(fraud_detection)\n"
   ]
  },
  {
   "cell_type": "code",
   "execution_count": 3,
   "metadata": {},
   "outputs": [],
   "source": [
    "\n",
    "from scripts.fraud_detection import FraudDetectionML"
   ]
  },
  {
   "cell_type": "code",
   "execution_count": 4,
   "metadata": {},
   "outputs": [],
   "source": [
    "fraud_data_path = '../week 8-9 data/Data/fraud_detection_preprocessed.pkl'\n",
    "creditcard_data_path = '../week 8-9 data/Data/creditcard.csv'\n",
    "fraud_ml = FraudDetectionML(fraud_data_path, creditcard_data_path)"
   ]
  },
  {
   "cell_type": "code",
   "execution_count": 6,
   "metadata": {},
   "outputs": [
    {
     "name": "stdout",
     "output_type": "stream",
     "text": [
      "Feature names saved successfully.\n"
     ]
    }
   ],
   "source": [
    "\n",
    "import joblib\n",
    "\n",
    "# Ensure the models directory exists\n",
    "MODELS_DIR = \"models\"\n",
    "os.makedirs(MODELS_DIR, exist_ok=True)  # Creates directory if it doesn't exist\n",
    "\n",
    "# Save feature names\n",
    "feature_names = list(X_train.columns)\n",
    "joblib.dump(feature_names, os.path.join(MODELS_DIR, \"fraud_feature_names.pkl\"))\n",
    "\n",
    "print(\"Feature names saved successfully.\")\n"
   ]
  },
  {
   "cell_type": "code",
   "execution_count": null,
   "metadata": {},
   "outputs": [
    {
     "name": "stdout",
     "output_type": "stream",
     "text": [
      "2025-02-17 15:43:21,507 - INFO - Training LogisticRegression on fraud dataset...\n"
     ]
    },
    {
     "name": "stderr",
     "output_type": "stream",
     "text": [
      "2025/02/17 15:43:32 WARNING mlflow.models.model: Model logged without a signature and input example. Please set `input_example` parameter when logging the model to auto infer the model signature.\n"
     ]
    },
    {
     "name": "stdout",
     "output_type": "stream",
     "text": [
      "2025-02-17 15:43:32,317 - INFO - LogisticRegression Metrics - Accuracy: 0.9500, Precision: 0.9483, Recall: 0.9500, F1 Score: 0.9440\n",
      "2025-02-17 15:43:32,390 - INFO - Classification Report:\n",
      "              precision    recall  f1-score   support\n",
      "\n",
      "         0.0       0.95      0.99      0.97     27103\n",
      "         1.0       0.91      0.53      0.67      2866\n",
      "\n",
      "    accuracy                           0.95     29969\n",
      "   macro avg       0.93      0.76      0.82     29969\n",
      "weighted avg       0.95      0.95      0.94     29969\n",
      "\n",
      "2025-02-17 15:43:32,475 - INFO - Training DecisionTree on fraud dataset...\n"
     ]
    },
    {
     "name": "stderr",
     "output_type": "stream",
     "text": [
      "2025/02/17 15:43:44 WARNING mlflow.models.model: Model logged without a signature and input example. Please set `input_example` parameter when logging the model to auto infer the model signature.\n"
     ]
    },
    {
     "name": "stdout",
     "output_type": "stream",
     "text": [
      "2025-02-17 15:43:44,819 - INFO - DecisionTree Metrics - Accuracy: 0.9130, Precision: 0.9174, Recall: 0.9130, F1 Score: 0.9150\n",
      "2025-02-17 15:43:44,880 - INFO - Classification Report:\n",
      "              precision    recall  f1-score   support\n",
      "\n",
      "         0.0       0.96      0.95      0.95     27103\n",
      "         1.0       0.54      0.60      0.57      2866\n",
      "\n",
      "    accuracy                           0.91     29969\n",
      "   macro avg       0.75      0.77      0.76     29969\n",
      "weighted avg       0.92      0.91      0.92     29969\n",
      "\n",
      "2025-02-17 15:43:44,956 - INFO - Training RandomForest on fraud dataset...\n"
     ]
    },
    {
     "name": "stderr",
     "output_type": "stream",
     "text": [
      "2025/02/17 15:44:51 WARNING mlflow.models.model: Model logged without a signature and input example. Please set `input_example` parameter when logging the model to auto infer the model signature.\n"
     ]
    },
    {
     "name": "stdout",
     "output_type": "stream",
     "text": [
      "2025-02-17 15:44:51,737 - INFO - RandomForest Metrics - Accuracy: 0.9559, Precision: 0.9576, Recall: 0.9559, F1 Score: 0.9500\n",
      "2025-02-17 15:44:51,804 - INFO - Classification Report:\n",
      "              precision    recall  f1-score   support\n",
      "\n",
      "         0.0       0.95      1.00      0.98     27103\n",
      "         1.0       0.99      0.54      0.70      2866\n",
      "\n",
      "    accuracy                           0.96     29969\n",
      "   macro avg       0.97      0.77      0.84     29969\n",
      "weighted avg       0.96      0.96      0.95     29969\n",
      "\n",
      "2025-02-17 15:44:51,888 - INFO - Training GradientBoosting on fraud dataset...\n"
     ]
    },
    {
     "name": "stderr",
     "output_type": "stream",
     "text": [
      "2025/02/17 15:46:00 WARNING mlflow.models.model: Model logged without a signature and input example. Please set `input_example` parameter when logging the model to auto infer the model signature.\n"
     ]
    },
    {
     "name": "stdout",
     "output_type": "stream",
     "text": [
      "2025-02-17 15:46:00,660 - INFO - GradientBoosting Metrics - Accuracy: 0.9560, Precision: 0.9578, Recall: 0.9560, F1 Score: 0.9500\n",
      "2025-02-17 15:46:00,728 - INFO - Classification Report:\n",
      "              precision    recall  f1-score   support\n",
      "\n",
      "         0.0       0.95      1.00      0.98     27103\n",
      "         1.0       1.00      0.54      0.70      2866\n",
      "\n",
      "    accuracy                           0.96     29969\n",
      "   macro avg       0.97      0.77      0.84     29969\n",
      "weighted avg       0.96      0.96      0.95     29969\n",
      "\n",
      "2025-02-17 15:46:00,828 - INFO - Best model saved: models\\fraud_RandomForest.pkl\n",
      "2025-02-17 15:46:00,828 - INFO - Scaler saved: models\\fraud_scaler.pkl\n"
     ]
    }
   ],
   "source": [
    "# train\n",
    "fraud_ml.train_and_evaluate('fraud')\n"
   ]
  },
  {
   "cell_type": "code",
   "execution_count": null,
   "metadata": {},
   "outputs": [
    {
     "name": "stdout",
     "output_type": "stream",
     "text": [
      "2025-02-17 15:46:11,892 - INFO - Training LogisticRegression on creditcard dataset...\n"
     ]
    },
    {
     "name": "stderr",
     "output_type": "stream",
     "text": [
      "2025/02/17 15:46:19 WARNING mlflow.models.model: Model logged without a signature and input example. Please set `input_example` parameter when logging the model to auto infer the model signature.\n"
     ]
    },
    {
     "name": "stdout",
     "output_type": "stream",
     "text": [
      "2025-02-17 15:46:19,150 - INFO - LogisticRegression Metrics - Accuracy: 0.9991, Precision: 0.9990, Recall: 0.9991, F1 Score: 0.9990\n",
      "2025-02-17 15:46:19,224 - INFO - Classification Report:\n",
      "              precision    recall  f1-score   support\n",
      "\n",
      "           0       1.00      1.00      1.00     56864\n",
      "           1       0.85      0.56      0.67        98\n",
      "\n",
      "    accuracy                           1.00     56962\n",
      "   macro avg       0.92      0.78      0.84     56962\n",
      "weighted avg       1.00      1.00      1.00     56962\n",
      "\n",
      "2025-02-17 15:46:19,313 - INFO - Training DecisionTree on creditcard dataset...\n"
     ]
    },
    {
     "name": "stderr",
     "output_type": "stream",
     "text": [
      "2025/02/17 15:46:52 WARNING mlflow.models.model: Model logged without a signature and input example. Please set `input_example` parameter when logging the model to auto infer the model signature.\n"
     ]
    },
    {
     "name": "stdout",
     "output_type": "stream",
     "text": [
      "2025-02-17 15:46:52,087 - INFO - DecisionTree Metrics - Accuracy: 0.9991, Precision: 0.9991, Recall: 0.9991, F1 Score: 0.9991\n",
      "2025-02-17 15:46:52,152 - INFO - Classification Report:\n",
      "              precision    recall  f1-score   support\n",
      "\n",
      "           0       1.00      1.00      1.00     56864\n",
      "           1       0.72      0.77      0.74        98\n",
      "\n",
      "    accuracy                           1.00     56962\n",
      "   macro avg       0.86      0.88      0.87     56962\n",
      "weighted avg       1.00      1.00      1.00     56962\n",
      "\n",
      "2025-02-17 15:46:52,232 - INFO - Training RandomForest on creditcard dataset...\n"
     ]
    },
    {
     "name": "stderr",
     "output_type": "stream",
     "text": [
      "2025/02/17 15:51:55 WARNING mlflow.models.model: Model logged without a signature and input example. Please set `input_example` parameter when logging the model to auto infer the model signature.\n"
     ]
    },
    {
     "name": "stdout",
     "output_type": "stream",
     "text": [
      "2025-02-17 15:51:55,966 - INFO - RandomForest Metrics - Accuracy: 0.9996, Precision: 0.9996, Recall: 0.9996, F1 Score: 0.9996\n",
      "2025-02-17 15:51:56,089 - INFO - Classification Report:\n",
      "              precision    recall  f1-score   support\n",
      "\n",
      "           0       1.00      1.00      1.00     56864\n",
      "           1       0.97      0.78      0.86        98\n",
      "\n",
      "    accuracy                           1.00     56962\n",
      "   macro avg       0.99      0.89      0.93     56962\n",
      "weighted avg       1.00      1.00      1.00     56962\n",
      "\n",
      "2025-02-17 15:51:56,172 - INFO - Training GradientBoosting on creditcard dataset...\n"
     ]
    },
    {
     "name": "stderr",
     "output_type": "stream",
     "text": [
      "2025/02/17 16:00:48 WARNING mlflow.models.model: Model logged without a signature and input example. Please set `input_example` parameter when logging the model to auto infer the model signature.\n"
     ]
    },
    {
     "name": "stdout",
     "output_type": "stream",
     "text": [
      "2025-02-17 16:00:48,865 - INFO - GradientBoosting Metrics - Accuracy: 0.9989, Precision: 0.9989, Recall: 0.9989, F1 Score: 0.9989\n",
      "2025-02-17 16:00:48,964 - INFO - Classification Report:\n",
      "              precision    recall  f1-score   support\n",
      "\n",
      "           0       1.00      1.00      1.00     56864\n",
      "           1       0.74      0.60      0.66        98\n",
      "\n",
      "    accuracy                           1.00     56962\n",
      "   macro avg       0.87      0.80      0.83     56962\n",
      "weighted avg       1.00      1.00      1.00     56962\n",
      "\n",
      "2025-02-17 16:00:49,045 - INFO - Best model saved: models\\creditcard_RandomForest.pkl\n",
      "2025-02-17 16:00:49,046 - INFO - Scaler saved: models\\creditcard_scaler.pkl\n"
     ]
    }
   ],
   "source": [
    "fraud_ml.train_and_evaluate('creditcard')"
   ]
  },
  {
   "cell_type": "code",
   "execution_count": null,
   "metadata": {},
   "outputs": [],
   "source": []
  }
 ],
 "metadata": {
  "kernelspec": {
   "display_name": "z_env",
   "language": "python",
   "name": "python3"
  },
  "language_info": {
   "codemirror_mode": {
    "name": "ipython",
    "version": 3
   },
   "file_extension": ".py",
   "mimetype": "text/x-python",
   "name": "python",
   "nbconvert_exporter": "python",
   "pygments_lexer": "ipython3",
   "version": "3.12.3"
  }
 },
 "nbformat": 4,
 "nbformat_minor": 2
}
